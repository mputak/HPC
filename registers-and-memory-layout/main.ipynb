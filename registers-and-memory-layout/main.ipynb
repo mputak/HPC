{
 "cells": [
  {
   "cell_type": "markdown",
   "metadata": {},
   "source": [
    "# Exercise 1"
   ]
  },
  {
   "cell_type": "code",
   "execution_count": 120,
   "metadata": {},
   "outputs": [
    {
     "name": "stdout",
     "output_type": "stream",
     "text": [
      "Head:  [816154, 714908, 550763, 149010, 872210]\n"
     ]
    }
   ],
   "source": [
    "import random\n",
    "\n",
    "x = random.sample(range(1000000), 1000000)\n",
    "print(\"Head: \", x[:5])"
   ]
  },
  {
   "cell_type": "code",
   "execution_count": 121,
   "metadata": {},
   "outputs": [
    {
     "name": "stdout",
     "output_type": "stream",
     "text": [
      "94.7 ms ± 3.13 ms per loop (mean ± std. dev. of 7 runs, 10 loops each)\n"
     ]
    }
   ],
   "source": [
    "%%timeit\n",
    "# y = [None] * (1000000 - 1)\n",
    "y_ = []\n",
    "for i in range(len(x) - 1):\n",
    "    # y[i] = x[i+1] - x[i]\n",
    "    y_.append(x[i+1] - x[i])\n"
   ]
  },
  {
   "cell_type": "markdown",
   "metadata": {},
   "source": [
    "Create NONE list and **index into** it: 128 ms ± 2.17 ms per loop (mean ± std. dev. of 7 runs, 10 loops each)\n",
    "\n",
    "Create EMPTY list and **append**: 104 ms ± 1.29 ms per loop (mean ± std. dev. of 7 runs, 10 loops each)"
   ]
  },
  {
   "cell_type": "code",
   "execution_count": 122,
   "metadata": {},
   "outputs": [
    {
     "name": "stdout",
     "output_type": "stream",
     "text": [
      "92.4 ms ± 13.3 ms per loop (mean ± std. dev. of 7 runs, 10 loops each)\n"
     ]
    }
   ],
   "source": [
    "%%timeit\n",
    "# y = [None] * (1000000 - 1)\n",
    "y_ = []\n",
    "for i in range(len(x) - 1):\n",
    "    x_next = x[i+1]\n",
    "    x_now = x[i]\n",
    "    # y[i] = x_next - x_now\n",
    "    y_.append(x_next - x_now)"
   ]
  },
  {
   "cell_type": "markdown",
   "metadata": {},
   "source": [
    "None list + slice into = 96.6 ms ± 7.95 ms per loop (mean ± std. dev. of 7 runs, 10 loops each)\n",
    "\n",
    "Empty list + append = 94.6 ms ± 2.17 ms per loop (mean ± std. dev. of 7 runs, 10 loops each)\n"
   ]
  },
  {
   "cell_type": "code",
   "execution_count": 123,
   "metadata": {},
   "outputs": [],
   "source": [
    "import numpy as np\n",
    "x_numpy = np.array(x)"
   ]
  },
  {
   "cell_type": "code",
   "execution_count": 124,
   "metadata": {},
   "outputs": [
    {
     "name": "stdout",
     "output_type": "stream",
     "text": [
      "155 ms ± 48.9 ms per loop (mean ± std. dev. of 7 runs, 1 loop each)\n"
     ]
    }
   ],
   "source": [
    "%%timeit\n",
    "y_numpy = np.array(y)\n",
    "# y__numpy = np.array(y_)\n",
    "\n",
    "for i in range(len(x) - 1):\n",
    "    y_numpy[i] = x[i+1] - x[i]\n",
    "    # np.append(y_, (x[i+1] - x[i]))"
   ]
  },
  {
   "cell_type": "markdown",
   "metadata": {},
   "source": [
    "None list + slice into numpy = 123 ms ± 29.5 ms per loop (mean ± std. dev. of 7 runs, 10 loops each)\n",
    "\n",
    "Empty list + append = Longer than 1min, stopped"
   ]
  },
  {
   "cell_type": "code",
   "execution_count": 125,
   "metadata": {},
   "outputs": [
    {
     "name": "stdout",
     "output_type": "stream",
     "text": [
      "172 ms ± 1.41 ms per loop (mean ± std. dev. of 7 runs, 10 loops each)\n"
     ]
    }
   ],
   "source": [
    "%%timeit\n",
    "y_numpy = np.array(y)\n",
    "# y__numpy = np.array(y_)\n",
    "\n",
    "for i in range(len(x_numpy) - 1):\n",
    "    x_next = x_numpy[i+1]\n",
    "    x_now = x_numpy[i]\n",
    "    y_numpy[i] = x_next - x_now\n",
    "    # np.append(y_, (x_next - x_now))"
   ]
  },
  {
   "cell_type": "markdown",
   "metadata": {},
   "source": [
    "None list as numpy = 111 ms ± 1.07 ms per loop (mean ± std. dev. of 7 runs, 10 loops each)\n",
    "\n",
    "Empty list as numpy = More than 1.5mins"
   ]
  },
  {
   "cell_type": "code",
   "execution_count": 126,
   "metadata": {},
   "outputs": [
    {
     "name": "stdout",
     "output_type": "stream",
     "text": [
      "26.3 ms ± 289 µs per loop (mean ± std. dev. of 7 runs, 10 loops each)\n"
     ]
    }
   ],
   "source": [
    "%%timeit\n",
    "# y_numpy = np.array(y)\n",
    "y__numpy = np.array(y_)\n",
    "\n",
    "y_numpy = np.diff(x_numpy)\n",
    "    # np.append(y_, (x_next - x_now))"
   ]
  },
  {
   "cell_type": "markdown",
   "metadata": {},
   "source": [
    "None list as numpy diff = 26.6 ms ± 138 µs per loop (mean ± std. dev. of 7 runs, 10 loops each)"
   ]
  },
  {
   "cell_type": "markdown",
   "metadata": {},
   "source": [
    "## Exercise 2"
   ]
  },
  {
   "cell_type": "code",
   "execution_count": 127,
   "metadata": {},
   "outputs": [
    {
     "name": "stdout",
     "output_type": "stream",
     "text": [
      "[[1 2]\n",
      " [3 4]\n",
      " [5 6]]\n"
     ]
    }
   ],
   "source": [
    "arr = np.array([1,2,3,4,5,6])\n",
    "arr32 = arr.reshape(3,2)\n",
    "\n",
    "print(arr32)"
   ]
  },
  {
   "cell_type": "markdown",
   "metadata": {},
   "source": [
    "Fortran: 1,3,5,2,4,6\n",
    "C : 1,2,3,4,5,6\n",
    "\n",
    "- **F** might be usefull if we are interested in columns of a matrix only\n",
    "- **C** for row interest"
   ]
  },
  {
   "cell_type": "code",
   "execution_count": 128,
   "metadata": {},
   "outputs": [
    {
     "name": "stdout",
     "output_type": "stream",
     "text": [
      "  C_CONTIGUOUS : True\n",
      "  F_CONTIGUOUS : False\n",
      "  OWNDATA : True\n",
      "  WRITEABLE : True\n",
      "  ALIGNED : True\n",
      "  WRITEBACKIFCOPY : False\n",
      "\n",
      "(1000000, 100)\n",
      "(100, 1000000)\n"
     ]
    }
   ],
   "source": [
    "X = np.random.rand(1000000,100)\n",
    "Y = X.T\n",
    "X_F = np.array(X, order=\"F\")\n",
    "Y_F = np.array(Y, order=\"F\")\n",
    "print(X.flags)\n",
    "print(X.shape)\n",
    "print(Y.shape)"
   ]
  },
  {
   "cell_type": "code",
   "execution_count": 129,
   "metadata": {},
   "outputs": [
    {
     "name": "stdout",
     "output_type": "stream",
     "text": [
      "1.53 s ± 14.1 ms per loop (mean ± std. dev. of 7 runs, 1 loop each)\n"
     ]
    }
   ],
   "source": [
    "%%timeit\n",
    "for row in X:\n",
    "    row_sum = np.sum(row)"
   ]
  },
  {
   "cell_type": "markdown",
   "metadata": {},
   "source": [
    "Row-sum: 1.52 s ± 5 ms per loop (mean ± std. dev. of 7 runs, 1 loop each)"
   ]
  },
  {
   "cell_type": "code",
   "execution_count": 130,
   "metadata": {},
   "outputs": [
    {
     "name": "stdout",
     "output_type": "stream",
     "text": [
      "1.57 s ± 6.98 ms per loop (mean ± std. dev. of 7 runs, 1 loop each)\n"
     ]
    }
   ],
   "source": [
    "%%timeit\n",
    "for row in X_F:\n",
    "    row_sum = np.sum(row)"
   ]
  },
  {
   "cell_type": "markdown",
   "metadata": {},
   "source": [
    "1.56 s ± 9.41 ms per loop (mean ± std. dev. of 7 runs, 1 loop each)"
   ]
  },
  {
   "cell_type": "code",
   "execution_count": 131,
   "metadata": {},
   "outputs": [
    {
     "name": "stdout",
     "output_type": "stream",
     "text": [
      "521 ms ± 4.15 ms per loop (mean ± std. dev. of 7 runs, 1 loop each)\n"
     ]
    }
   ],
   "source": [
    "%%timeit\n",
    "for row in Y:\n",
    "    row_sum = np.sum(row)"
   ]
  },
  {
   "cell_type": "markdown",
   "metadata": {},
   "source": [
    "549 ms ± 64 ms per loop (mean ± std. dev. of 7 runs, 1 loop each)"
   ]
  },
  {
   "cell_type": "code",
   "execution_count": 132,
   "metadata": {},
   "outputs": [
    {
     "name": "stdout",
     "output_type": "stream",
     "text": [
      "518 ms ± 12.6 ms per loop (mean ± std. dev. of 7 runs, 1 loop each)\n"
     ]
    }
   ],
   "source": [
    "%%timeit\n",
    "for row in Y_F:\n",
    "    row_sum = np.sum(row)"
   ]
  },
  {
   "cell_type": "markdown",
   "metadata": {},
   "source": [
    "504 ms ± 13 ms per loop (mean ± std. dev. of 7 runs, 1 loop each)"
   ]
  },
  {
   "cell_type": "markdown",
   "metadata": {},
   "source": [
    "RESULTS: ((100, 1e6), order=\"C\") < ((100, 1e6), order=\"F\") < ((1e6,100), order=\"C\") < ((1e6,100), order=\"F\")\n",
    "\n",
    "Y < Y_F < X < X_F"
   ]
  }
 ],
 "metadata": {
  "kernelspec": {
   "display_name": "HPC",
   "language": "python",
   "name": "python3"
  },
  "language_info": {
   "codemirror_mode": {
    "name": "ipython",
    "version": 3
   },
   "file_extension": ".py",
   "mimetype": "text/x-python",
   "name": "python",
   "nbconvert_exporter": "python",
   "pygments_lexer": "ipython3",
   "version": "3.12.1"
  }
 },
 "nbformat": 4,
 "nbformat_minor": 2
}
