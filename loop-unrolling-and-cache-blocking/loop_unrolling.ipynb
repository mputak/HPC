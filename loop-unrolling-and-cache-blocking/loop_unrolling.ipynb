{
 "cells": [
  {
   "cell_type": "code",
   "execution_count": 1,
   "metadata": {},
   "outputs": [],
   "source": [
    "import numpy as np"
   ]
  },
  {
   "cell_type": "code",
   "execution_count": 2,
   "metadata": {},
   "outputs": [
    {
     "name": "stdout",
     "output_type": "stream",
     "text": [
      "Shape: (1000000,)\n",
      "Head: [0.61716441 0.52736192 0.112841   0.50037939 0.22061619]\n"
     ]
    }
   ],
   "source": [
    "N = 1000000\n",
    "a = np.random.random(N)\n",
    "b = np.random.random(N)\n",
    "\n",
    "print(f\"Shape: {a.shape}\\nHead: {a[:5]}\")"
   ]
  },
  {
   "cell_type": "markdown",
   "metadata": {},
   "source": [
    "# Naive approach"
   ]
  },
  {
   "cell_type": "code",
   "execution_count": 3,
   "metadata": {},
   "outputs": [
    {
     "name": "stdout",
     "output_type": "stream",
     "text": [
      "153 ms ± 4.75 ms per loop (mean ± std. dev. of 7 runs, 10 loops each)\n"
     ]
    }
   ],
   "source": [
    "%%timeit\n",
    "sum_naive = 0\n",
    "i = 0\n",
    "while i < N:\n",
    "    sum_naive += a[i] * b[i]\n",
    "    i += 1"
   ]
  },
  {
   "cell_type": "markdown",
   "metadata": {},
   "source": [
    "# 2 times loop unrolling"
   ]
  },
  {
   "cell_type": "code",
   "execution_count": 4,
   "metadata": {},
   "outputs": [
    {
     "name": "stdout",
     "output_type": "stream",
     "text": [
      "209 ms ± 1.63 ms per loop (mean ± std. dev. of 7 runs, 1 loop each)\n"
     ]
    }
   ],
   "source": [
    "%%timeit\n",
    "sum_two1 = 0\n",
    "sum_two2 = 0\n",
    "i = 0\n",
    "while i < N/2 - 1:\n",
    "    sum_two1 += a[2*i] * b[2*i]\n",
    "    sum_two2 += a[2*i + 1] * b[2*i + 1]\n",
    "    i += 1\n",
    "sum_two = sum_two1 + sum_two2\n"
   ]
  },
  {
   "cell_type": "markdown",
   "metadata": {},
   "source": [
    "# 4 times loop unrolling"
   ]
  },
  {
   "cell_type": "code",
   "execution_count": 5,
   "metadata": {},
   "outputs": [
    {
     "name": "stdout",
     "output_type": "stream",
     "text": [
      "197 ms ± 447 µs per loop (mean ± std. dev. of 7 runs, 1 loop each)\n"
     ]
    }
   ],
   "source": [
    "%%timeit\n",
    "sum_four1 = 0\n",
    "sum_four2 = 0\n",
    "sum_four3 = 0\n",
    "sum_four4 = 0\n",
    "i = 0\n",
    "while i < N/4 - 1:\n",
    "    sum_four1 += a[4*i] * b[4*i]\n",
    "    sum_four2 += a[4*i + 1] * b[4*i + 1]\n",
    "    sum_four3 += a[4*i + 2] * b[4*i + 2]\n",
    "    sum_four4 += a[4*i + 3] * b[4*i + 3]\n",
    "    i += 1\n",
    "sum_four = sum_four1 + sum_four2 + sum_four3 + sum_four4"
   ]
  },
  {
   "cell_type": "markdown",
   "metadata": {},
   "source": [
    "# Numpy Vectorization"
   ]
  },
  {
   "cell_type": "code",
   "execution_count": 6,
   "metadata": {},
   "outputs": [
    {
     "name": "stdout",
     "output_type": "stream",
     "text": [
      "116 µs ± 7.08 µs per loop (mean ± std. dev. of 7 runs, 10,000 loops each)\n"
     ]
    }
   ],
   "source": [
    "%%timeit\n",
    "sum_vec = np.dot(a, b)"
   ]
  },
  {
   "cell_type": "markdown",
   "metadata": {},
   "source": [
    "# NUMBA power"
   ]
  },
  {
   "cell_type": "code",
   "execution_count": 7,
   "metadata": {},
   "outputs": [],
   "source": [
    "from numba import jit"
   ]
  },
  {
   "cell_type": "markdown",
   "metadata": {},
   "source": [
    "# Numba Naive approach"
   ]
  },
  {
   "cell_type": "code",
   "execution_count": 8,
   "metadata": {},
   "outputs": [
    {
     "name": "stdout",
     "output_type": "stream",
     "text": [
      "22.3 µs ± 59.1 ns per loop (mean ± std. dev. of 7 runs, 10,000 loops each)\n"
     ]
    }
   ],
   "source": [
    "%%timeit\n",
    "@jit(nopython=True)\n",
    "def speed():\n",
    "    sum_naive = 0\n",
    "    i = 0\n",
    "    while i < N:\n",
    "        sum_naive += a[i] * b[i]\n",
    "        i += 1\n",
    "return sum_naive"
   ]
  },
  {
   "cell_type": "markdown",
   "metadata": {},
   "source": [
    "# Numba 2 times loop unrolling"
   ]
  },
  {
   "cell_type": "code",
   "execution_count": 9,
   "metadata": {},
   "outputs": [
    {
     "name": "stdout",
     "output_type": "stream",
     "text": [
      "23.8 µs ± 743 ns per loop (mean ± std. dev. of 7 runs, 10,000 loops each)\n"
     ]
    }
   ],
   "source": [
    "%%timeit\n",
    "@jit(nopython=True)\n",
    "def speed():\n",
    "    sum_two1 = 0\n",
    "    sum_two2 = 0\n",
    "    i = 0\n",
    "    while i < N/2 - 1:\n",
    "        sum_two1 += a[2*i] * b[2*i]\n",
    "        sum_two2 += a[2*i + 1] * b[2*i + 1]\n",
    "        i += 1\n",
    "    return sum_two1 + sum_two2"
   ]
  },
  {
   "cell_type": "markdown",
   "metadata": {},
   "source": [
    "# Numba 4 times loop unrolling"
   ]
  },
  {
   "cell_type": "code",
   "execution_count": 10,
   "metadata": {},
   "outputs": [
    {
     "name": "stdout",
     "output_type": "stream",
     "text": [
      "23.6 µs ± 489 ns per loop (mean ± std. dev. of 7 runs, 10,000 loops each)\n"
     ]
    }
   ],
   "source": [
    "%%timeit\n",
    "@jit(nopython=True)\n",
    "def speed():\n",
    "    sum_four1 = 0\n",
    "    sum_four2 = 0\n",
    "    sum_four3 = 0\n",
    "    sum_four4 = 0\n",
    "    i = 0\n",
    "    while i < N/4 - 1:\n",
    "        sum_four1 += a[4*i] * b[4*i]\n",
    "        sum_four2 += a[4*i + 1] * b[4*i + 1]\n",
    "        sum_four3 += a[4*i + 2] * b[4*i + 2]\n",
    "        sum_four4 += a[4*i + 3] * b[4*i + 3]\n",
    "        i += 1\n",
    "    return sum_four1 + sum_four2 + sum_four3 + sum_four4"
   ]
  },
  {
   "cell_type": "markdown",
   "metadata": {},
   "source": [
    "# Numba Numpy vectorization "
   ]
  },
  {
   "cell_type": "code",
   "execution_count": 11,
   "metadata": {},
   "outputs": [
    {
     "name": "stdout",
     "output_type": "stream",
     "text": [
      "22.8 µs ± 392 ns per loop (mean ± std. dev. of 7 runs, 10,000 loops each)\n"
     ]
    }
   ],
   "source": [
    "%%timeit\n",
    "@jit(nopython=True)\n",
    "def speed():\n",
    "    return np.dot(a, b)"
   ]
  }
 ],
 "metadata": {
  "kernelspec": {
   "display_name": "HPC",
   "language": "python",
   "name": "python3"
  },
  "language_info": {
   "codemirror_mode": {
    "name": "ipython",
    "version": 3
   },
   "file_extension": ".py",
   "mimetype": "text/x-python",
   "name": "python",
   "nbconvert_exporter": "python",
   "pygments_lexer": "ipython3",
   "version": "3.12.1"
  }
 },
 "nbformat": 4,
 "nbformat_minor": 2
}
